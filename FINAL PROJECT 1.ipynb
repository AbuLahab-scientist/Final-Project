{
 "cells": [
  {
   "cell_type": "markdown",
   "id": "7d38fc31-895b-4ed9-ab11-fe2212e41a99",
   "metadata": {},
   "source": [
    "## OVERVIEW kasus"
   ]
  },
  {
   "cell_type": "markdown",
   "id": "f38461c4-0b8c-4336-8314-258accbd6c3d",
   "metadata": {},
   "source": [
    "Perusahaan X ingin meningkatkan penjualan mereka. Dari data penjualan sebelumnya menunjukkan bahwa penjualan rata-rata yaitu $100 per transaksi. Setelah melakukan training kepada pekerja sales, data penjualan terbaru (yang diambil dari 25 sampel pekerja sales) tersimpan dalam tabel di bawah ini:"
   ]
  },
  {
   "cell_type": "code",
   "execution_count": 29,
   "id": "a62480f3-9be2-477d-92d7-5e7611b4b784",
   "metadata": {},
   "outputs": [
    {
     "data": {
      "text/plain": [
       "array([100, 150,  50, 100, 130, 120, 100,  85,  70, 150, 150, 120,  50,\n",
       "       100, 100, 140,  90, 150,  50,  90, 120, 100, 110,  75,  65])"
      ]
     },
     "execution_count": 29,
     "metadata": {},
     "output_type": "execute_result"
    }
   ],
   "source": [
    "import pandas as pd\n",
    "import numpy as np\n",
    "df= np.array([100 ,150, 50, 100, 130, 120, 100, 85, 70, 150, 150, 120, \n",
    "              50, 100 ,100 ,140, 90 ,150, 50, 90, 120, 100, 110, 75 ,65,  ])\n",
    "df"
   ]
  },
  {
   "cell_type": "code",
   "execution_count": 5,
   "id": "28e78262-9129-4072-b736-d2c642eb0ed6",
   "metadata": {},
   "outputs": [
    {
     "data": {
      "text/plain": [
       "25"
      ]
     },
     "execution_count": 5,
     "metadata": {},
     "output_type": "execute_result"
    }
   ],
   "source": [
    "len(df)"
   ]
  },
  {
   "cell_type": "code",
   "execution_count": 30,
   "id": "35d8c9f7-08d0-43a7-b986-e4550f8f7e9c",
   "metadata": {},
   "outputs": [
    {
     "data": {
      "text/html": [
       "<div>\n",
       "<style scoped>\n",
       "    .dataframe tbody tr th:only-of-type {\n",
       "        vertical-align: middle;\n",
       "    }\n",
       "\n",
       "    .dataframe tbody tr th {\n",
       "        vertical-align: top;\n",
       "    }\n",
       "\n",
       "    .dataframe thead th {\n",
       "        text-align: right;\n",
       "    }\n",
       "</style>\n",
       "<table border=\"1\" class=\"dataframe\">\n",
       "  <thead>\n",
       "    <tr style=\"text-align: right;\">\n",
       "      <th></th>\n",
       "      <th>Transactions Amount</th>\n",
       "    </tr>\n",
       "  </thead>\n",
       "  <tbody>\n",
       "    <tr>\n",
       "      <th>0</th>\n",
       "      <td>100</td>\n",
       "    </tr>\n",
       "    <tr>\n",
       "      <th>1</th>\n",
       "      <td>150</td>\n",
       "    </tr>\n",
       "    <tr>\n",
       "      <th>2</th>\n",
       "      <td>50</td>\n",
       "    </tr>\n",
       "    <tr>\n",
       "      <th>3</th>\n",
       "      <td>100</td>\n",
       "    </tr>\n",
       "    <tr>\n",
       "      <th>4</th>\n",
       "      <td>130</td>\n",
       "    </tr>\n",
       "    <tr>\n",
       "      <th>5</th>\n",
       "      <td>120</td>\n",
       "    </tr>\n",
       "    <tr>\n",
       "      <th>6</th>\n",
       "      <td>100</td>\n",
       "    </tr>\n",
       "    <tr>\n",
       "      <th>7</th>\n",
       "      <td>85</td>\n",
       "    </tr>\n",
       "    <tr>\n",
       "      <th>8</th>\n",
       "      <td>70</td>\n",
       "    </tr>\n",
       "    <tr>\n",
       "      <th>9</th>\n",
       "      <td>150</td>\n",
       "    </tr>\n",
       "    <tr>\n",
       "      <th>10</th>\n",
       "      <td>150</td>\n",
       "    </tr>\n",
       "    <tr>\n",
       "      <th>11</th>\n",
       "      <td>120</td>\n",
       "    </tr>\n",
       "    <tr>\n",
       "      <th>12</th>\n",
       "      <td>50</td>\n",
       "    </tr>\n",
       "    <tr>\n",
       "      <th>13</th>\n",
       "      <td>100</td>\n",
       "    </tr>\n",
       "    <tr>\n",
       "      <th>14</th>\n",
       "      <td>100</td>\n",
       "    </tr>\n",
       "    <tr>\n",
       "      <th>15</th>\n",
       "      <td>140</td>\n",
       "    </tr>\n",
       "    <tr>\n",
       "      <th>16</th>\n",
       "      <td>90</td>\n",
       "    </tr>\n",
       "    <tr>\n",
       "      <th>17</th>\n",
       "      <td>150</td>\n",
       "    </tr>\n",
       "    <tr>\n",
       "      <th>18</th>\n",
       "      <td>50</td>\n",
       "    </tr>\n",
       "    <tr>\n",
       "      <th>19</th>\n",
       "      <td>90</td>\n",
       "    </tr>\n",
       "    <tr>\n",
       "      <th>20</th>\n",
       "      <td>120</td>\n",
       "    </tr>\n",
       "    <tr>\n",
       "      <th>21</th>\n",
       "      <td>100</td>\n",
       "    </tr>\n",
       "    <tr>\n",
       "      <th>22</th>\n",
       "      <td>110</td>\n",
       "    </tr>\n",
       "    <tr>\n",
       "      <th>23</th>\n",
       "      <td>75</td>\n",
       "    </tr>\n",
       "    <tr>\n",
       "      <th>24</th>\n",
       "      <td>65</td>\n",
       "    </tr>\n",
       "  </tbody>\n",
       "</table>\n",
       "</div>"
      ],
      "text/plain": [
       "    Transactions Amount\n",
       "0                   100\n",
       "1                   150\n",
       "2                    50\n",
       "3                   100\n",
       "4                   130\n",
       "5                   120\n",
       "6                   100\n",
       "7                    85\n",
       "8                    70\n",
       "9                   150\n",
       "10                  150\n",
       "11                  120\n",
       "12                   50\n",
       "13                  100\n",
       "14                  100\n",
       "15                  140\n",
       "16                   90\n",
       "17                  150\n",
       "18                   50\n",
       "19                   90\n",
       "20                  120\n",
       "21                  100\n",
       "22                  110\n",
       "23                   75\n",
       "24                   65"
      ]
     },
     "execution_count": 30,
     "metadata": {},
     "output_type": "execute_result"
    }
   ],
   "source": [
    "# buat ke dataframe\n",
    "data = pd.DataFrame(df, columns=['Transactions Amount'])\n",
    "data"
   ]
  },
  {
   "cell_type": "markdown",
   "id": "68687522-296b-47d7-8fe5-d6b98c86fbdd",
   "metadata": {},
   "source": [
    "### MEASURE OF CENTRAL TENDENCY\n",
    "- MEAN\n",
    "- MODE\n",
    "- MEDIAN"
   ]
  },
  {
   "cell_type": "code",
   "execution_count": 70,
   "id": "3f9d2a47-1af3-4f4f-a2dc-6d94b788db13",
   "metadata": {},
   "outputs": [
    {
     "name": "stdout",
     "output_type": "stream",
     "text": [
      "mean: 102.6\n",
      "median: 100\n",
      "modus: [100]\n"
     ]
    }
   ],
   "source": [
    "import statistics\n",
    "mean = statistics.mean(data['Transactions Amount'])\n",
    "median = statistics.median(data['Transactions Amount'])\n",
    "median = statistics.mode(data['Transactions Amount'])\n",
    "\n",
    "print('mean:', mean)\n",
    "print('median:', median)\n",
    "print('modus:', mode)"
   ]
  },
  {
   "cell_type": "code",
   "execution_count": 67,
   "id": "86b8ec02-1721-4ed0-9bda-a94053ee5b4b",
   "metadata": {},
   "outputs": [
    {
     "name": "stdout",
     "output_type": "stream",
     "text": [
      "None\n"
     ]
    }
   ],
   "source": [
    "print(mean)"
   ]
  },
  {
   "cell_type": "markdown",
   "id": "c787f150-205b-4a17-ba13-99c2a2c35a1a",
   "metadata": {},
   "source": [
    "### Measure of Variability\n",
    "- Range\n",
    "- variance\n",
    "- Standard Deviasi"
   ]
  },
  {
   "cell_type": "code",
   "execution_count": 43,
   "id": "8a9de5c4-3d2a-4117-85cc-eab67fd7cf70",
   "metadata": {},
   "outputs": [
    {
     "data": {
      "text/html": [
       "<div>\n",
       "<style scoped>\n",
       "    .dataframe tbody tr th:only-of-type {\n",
       "        vertical-align: middle;\n",
       "    }\n",
       "\n",
       "    .dataframe tbody tr th {\n",
       "        vertical-align: top;\n",
       "    }\n",
       "\n",
       "    .dataframe thead th {\n",
       "        text-align: right;\n",
       "    }\n",
       "</style>\n",
       "<table border=\"1\" class=\"dataframe\">\n",
       "  <thead>\n",
       "    <tr style=\"text-align: right;\">\n",
       "      <th></th>\n",
       "      <th>Transactions Amount</th>\n",
       "    </tr>\n",
       "  </thead>\n",
       "  <tbody>\n",
       "    <tr>\n",
       "      <th>count</th>\n",
       "      <td>25.000000</td>\n",
       "    </tr>\n",
       "    <tr>\n",
       "      <th>mean</th>\n",
       "      <td>102.600000</td>\n",
       "    </tr>\n",
       "    <tr>\n",
       "      <th>std</th>\n",
       "      <td>31.823733</td>\n",
       "    </tr>\n",
       "    <tr>\n",
       "      <th>min</th>\n",
       "      <td>50.000000</td>\n",
       "    </tr>\n",
       "    <tr>\n",
       "      <th>25%</th>\n",
       "      <td>85.000000</td>\n",
       "    </tr>\n",
       "    <tr>\n",
       "      <th>50%</th>\n",
       "      <td>100.000000</td>\n",
       "    </tr>\n",
       "    <tr>\n",
       "      <th>75%</th>\n",
       "      <td>120.000000</td>\n",
       "    </tr>\n",
       "    <tr>\n",
       "      <th>max</th>\n",
       "      <td>150.000000</td>\n",
       "    </tr>\n",
       "  </tbody>\n",
       "</table>\n",
       "</div>"
      ],
      "text/plain": [
       "       Transactions Amount\n",
       "count            25.000000\n",
       "mean            102.600000\n",
       "std              31.823733\n",
       "min              50.000000\n",
       "25%              85.000000\n",
       "50%             100.000000\n",
       "75%             120.000000\n",
       "max             150.000000"
      ]
     },
     "execution_count": 43,
     "metadata": {},
     "output_type": "execute_result"
    }
   ],
   "source": [
    "data.describe()"
   ]
  },
  {
   "cell_type": "code",
   "execution_count": 74,
   "id": "d4651f9e-add2-4203-91e6-dc9348d19751",
   "metadata": {},
   "outputs": [
    {
     "name": "stdout",
     "output_type": "stream",
     "text": [
      "variance: 972.2399999999997\n",
      "standard deviasi 31.180763300471007\n",
      "range: 100\n",
      "Q1: 85.0\n",
      "Q2: 100.0\n",
      "Q3: 120.0\n"
     ]
    }
   ],
   "source": [
    "# atau\n",
    "print('variance:',np.var(data['Transactions Amount']))\n",
    "print('standard deviasi',np.std(data['Transactions Amount']))\n",
    "print('range:', np.max(data['Transactions Amount'])-np.min(data['Transactions Amount']))\n",
    "print('Q1:',np.quantile(data['Transactions Amount'], 0.25))\n",
    "print('Q2:',np.quantile(data['Transactions Amount'], 0.5))\n",
    "print('Q3:',np.quantile(data['Transactions Amount'], 0.75))"
   ]
  },
  {
   "cell_type": "markdown",
   "id": "e256dc51-b402-45e3-8a17-92bbf573cf9e",
   "metadata": {},
   "source": [
    "### HASIL ANALISIS"
   ]
  },
  {
   "cell_type": "markdown",
   "id": "ca396122-0a5d-441d-b90a-e8eade671437",
   "metadata": {},
   "source": [
    "#### CENTRAL of measure\n",
    "- mean(102.6) > median (100) yang menunjukkan bahwa ada beberapa nilai yang lebih tinggi (outlier)\n",
    "  \n",
    "- Median adalah nilai tengah dari dataset. Karena median adalah 100,\n",
    "  ini menunjukkan bahwa setengah dari nilai transaksi berada di bawah 100 dan setengah lainnya di atas 100\n",
    "\n",
    "- mode (100) = menunjukan jumlah transaksi terfavorit"
   ]
  },
  {
   "cell_type": "markdown",
   "id": "1617c0fd-5704-46fe-be63-16941233de2c",
   "metadata": {},
   "source": [
    "#### Variabilty measure\n",
    "- Varians mengukur seberapa jauh nilai-nilai dalam dataset menyimpang dari rata-rata.\n",
    "Jika nilai-nilai dalam dataset disini berkisar antara 0 hingga 150, maka varians 972.24 bisa dianggap tinggi...\n",
    "Varians yang tinggi menunjukkan bahwa ada variasi yang signifikan dalam nilai transaksi.\n",
    "\n",
    "- Deviasi standar adalah akar kuadrat dari varians, \n",
    "deviasi standar yang cukup besar menunjukkan bahwa ada variasi yang signifikan dalam nilai transaksi.\n",
    "\n"
   ]
  },
  {
   "cell_type": "markdown",
   "id": "5eae314c-1f56-46cf-9442-047295cf6241",
   "metadata": {},
   "source": [
    "## DEFINE H0 dan H1 and Alpha\n",
    "- H0 = sebelum training , Transasctions  Amount = 100\n",
    "- H1 = setelah training, Transactions Amount > 100 (lebih besar dari 100)\n",
    "- Alpha 5% (a) = 0.05\n",
    "- ini berarti one sample test"
   ]
  },
  {
   "cell_type": "markdown",
   "id": "44367856-3822-4504-b539-e5a4417a5a9a",
   "metadata": {},
   "source": [
    "### perform T test one sample test\n",
    "- T statistik\n",
    "- P value"
   ]
  },
  {
   "cell_type": "code",
   "execution_count": 82,
   "id": "15ec5bf2-86a7-4f30-9a6d-23cd6d58abd4",
   "metadata": {},
   "outputs": [
    {
     "data": {
      "text/plain": [
       "TtestResult(statistic=0.4085001556802841, pvalue=0.6865284813438117, df=24)"
      ]
     },
     "execution_count": 82,
     "metadata": {},
     "output_type": "execute_result"
    }
   ],
   "source": [
    "from scipy import stats\n",
    "\n",
    "stats.ttest_1samp(a=data['Transactions Amount'], popmean=100) #popmean = penjualan sebelum training"
   ]
  },
  {
   "cell_type": "markdown",
   "id": "759bcc48-fc17-47ea-9044-40c6b89c5e6e",
   "metadata": {},
   "source": [
    "#### membandingkan \n",
    "- p value dengan alpha\n",
    "- t statistik dengan critical region"
   ]
  },
  {
   "cell_type": "markdown",
   "id": "351df974-97c1-4285-a8ff-598e5c468bbf",
   "metadata": {},
   "source": [
    "###### P value and alpha\n",
    "-  P value = 0.68, Alpha = 0.05\n",
    "- p value > alpha, maka hasilnya gagal menolak H0.\n",
    "- (hasil test kita gagal dan training sales ga guna)"
   ]
  },
  {
   "cell_type": "markdown",
   "id": "0a28d07a-6dfb-4de3-bae7-3e26bb219afe",
   "metadata": {},
   "source": [
    "###### t statistik and critical region\n",
    "- cari dulu critical region nya"
   ]
  },
  {
   "cell_type": "code",
   "execution_count": 87,
   "id": "e081938f-d2f9-4f5d-9280-2434ba62eb57",
   "metadata": {},
   "outputs": [
    {
     "data": {
      "text/plain": [
       "1.7108820799094275"
      ]
     },
     "execution_count": 87,
     "metadata": {},
     "output_type": "execute_result"
    }
   ],
   "source": [
    "# H1 : larger (kearah kanan)\n",
    "\n",
    "critical_region = stats.t.ppf(1-0.05 , 24) \n",
    "# 24 itu degree of freedom atau n-1 (25-1)\n",
    "critical_region"
   ]
  },
  {
   "cell_type": "markdown",
   "id": "b5feacc8-9585-4725-9b40-867caa6d5446",
   "metadata": {},
   "source": [
    "- critical region = t > 1.71 (t harus diatas 1.71)\n",
    "- sedangkan t statistik hanya 0.40\n",
    "- t statistik berada di luar critical region (hasil test gagal)\n",
    "- training karyawan sales ga efektif"
   ]
  }
 ],
 "metadata": {
  "kernelspec": {
   "display_name": "Python 3 (ipykernel)",
   "language": "python",
   "name": "python3"
  },
  "language_info": {
   "codemirror_mode": {
    "name": "ipython",
    "version": 3
   },
   "file_extension": ".py",
   "mimetype": "text/x-python",
   "name": "python",
   "nbconvert_exporter": "python",
   "pygments_lexer": "ipython3",
   "version": "3.11.7"
  }
 },
 "nbformat": 4,
 "nbformat_minor": 5
}
